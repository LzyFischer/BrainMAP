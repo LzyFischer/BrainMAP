{
 "cells": [
  {
   "cell_type": "code",
   "execution_count": 4,
   "metadata": {},
   "outputs": [
    {
     "name": "stdout",
     "output_type": "stream",
     "text": [
      "[0, 1, 2, 3, 4, 5]\n"
     ]
    },
    {
     "data": {
      "image/png": "[encoded data removed]",
      "text/plain": [
       "<Figure size 438x146 with 1 Axes>"
      ]
     },
     "metadata": {},
     "output_type": "display_data"
    }
   ],
   "source": [
    "import numpy as np\n",
    "import matplotlib.pyplot as plt\n",
    "from matplotlib import rcParams\n",
    "import os\n",
    "import pandas as pd\n",
    "# 设置字体和大小\n",
    "rcParams['font.family'] = 'Times New Roman'\n",
    "rcParams['font.size'] = 10\n",
    "plt.rcParams['mathtext.fontset'] = 'stix'  # Options: 'stix', 'stixsans', 'cm' (Computer Modern), 'dejavusans'\n",
    "plt.rcParams['mathtext.default'] = 'regular'  # Use regular weight for math fonts\n",
    "\n",
    "# data loading 1. group 2. acc+ delta_sp .loc rank 3.average of three files \n",
    "\n",
    "data1 = [94.45, 94.48, 94.74, 94.70, 94.71, 94.75]\n",
    "\n",
    "\n",
    "fig = plt.figure(figsize=(0.73 * 6, 0.73 * 2))\n",
    "\n",
    "bar_width = 0.4\n",
    "x_labels = data1\n",
    "\n",
    "x1 = np.arange(len(data1))\n",
    "x1 = [x  for x in x1]\n",
    "# x2 = [x + bar_width for x in x1]\n",
    "# x3 = [x + bar_width for x in x2]\n",
    "# x4 = [x + bar_width for x in x3]\n",
    "\n",
    "print(x1)\n",
    "\n",
    "bar_container = plt.bar(x1, data1, width=bar_width, label=data1, color=(130/255.0, 176/255.0, 210/255.0), edgecolor=\"black\", linewidth=1.3, capsize=2)\n",
    "\n",
    "\n",
    "# 设置背景颜色为浅灰色\n",
    "plt.gca().set_facecolor('#EEF0F2')\n",
    "\n",
    "# 开启网格，并设置虚线样式和颜色\n",
    "plt.grid(True, linestyle='--', color='gray', alpha=0.5)\n",
    "\n",
    "\n",
    "# 设置坐标轴标签\n",
    "# plt.xlabel('Number of Experts', fontsize=15)  # 修改x轴名称，加粗并修改为斜体X\n",
    "plt.ylabel('Accuracy', fontsize=15)\n",
    "\n",
    "\n",
    "# plt.ylim(0, 80)\n",
    "\n",
    "plt.xticks([r for r in range(len(data1))], [1,2,3,4,5,6])\n",
    "\n",
    "# plt.legend()\n",
    "# plt.tight_layout()\n",
    "plt.grid(axis='y', linestyle='--', alpha=0.7)\n",
    "\n",
    "# 设置y轴显示范围为0到1，均匀划分四份来呈现网格\n",
    "plt.ylim(94.2, 95)\n",
    "fmt = lambda x: \"{:.1f}\".format(x)\n",
    "# plt.yticks(np.linspace(0, 10, 5), [fmt(i) for i in np.linspace(0, 10, 5)])\n",
    "\n",
    "\n",
    "def custom_formatter(x, pos):\n",
    "    return f'{x:.2f}'\n",
    "\n",
    "# 移除上方和右侧的边框\n",
    "ax = plt.gca()\n",
    "ax.spines['top'].set_visible(False)\n",
    "ax.spines['right'].set_visible(False)\n",
    "ax.tick_params(axis='y', which='major', labelsize=12)\n",
    "ax.yaxis.set_major_formatter(custom_formatter)\n",
    "ax.tick_params(axis='x', which='major', labelsize=15)\n",
    "\n",
    "# plt.legend(fontsize=13, borderpad=0.3, labelspacing=0.1, ncol=4, columnspacing=1.33, handletextpad=0.3, loc=(0.02, 0.8))\n",
    "        #    , handlelength=1, handleheight=0.5)\n",
    "plt.savefig('layer_a.pdf', dpi=600, format= 'pdf', bbox_inches='tight')\n",
    "plt.show()\n"
   ]
  },
  {
   "cell_type": "code",
   "execution_count": 5,
   "metadata": {},
   "outputs": [
    {
     "name": "stdout",
     "output_type": "stream",
     "text": [
      "[0, 1, 2, 3, 4, 5]\n"
     ]
    },
    {
     "data": {
      "image/png": "[encoded data removed]",
      "text/plain": [
       "<Figure size 438x146 with 1 Axes>"
      ]
     },
     "metadata": {},
     "output_type": "display_data"
    }
   ],
   "source": [
    "import numpy as np\n",
    "import matplotlib.pyplot as plt\n",
    "from matplotlib import rcParams\n",
    "import os\n",
    "import pandas as pd\n",
    "# 设置字体和大小\n",
    "rcParams['font.family'] = 'Times New Roman'\n",
    "rcParams['font.size'] = 10\n",
    "plt.rcParams['mathtext.fontset'] = 'stix'  # Options: 'stix', 'stixsans', 'cm' (Computer Modern), 'dejavusans'\n",
    "plt.rcParams['mathtext.default'] = 'regular'  # Use regular weight for math fonts\n",
    "\n",
    "# data loading 1. group 2. acc+ delta_sp .loc rank 3.average of three files \n",
    "\n",
    "data1 = [78.09, 78.7, 78.92, 79.01, 79.01, 79.01]\n",
    "\n",
    "\n",
    "fig = plt.figure(figsize=(0.73 * 6, 0.73 * 2))\n",
    "\n",
    "bar_width = 0.4\n",
    "x_labels = data1\n",
    "\n",
    "x1 = np.arange(len(data1))\n",
    "x1 = [x  for x in x1]\n",
    "# x2 = [x + bar_width for x in x1]\n",
    "# x3 = [x + bar_width for x in x2]\n",
    "# x4 = [x + bar_width for x in x3]\n",
    "\n",
    "print(x1)\n",
    "\n",
    "bar_container = plt.bar(x1, data1, width=bar_width, label=data1, color=(142/255.0, 207/255.0, 201/255.0), edgecolor=\"black\", linewidth=1.3, capsize=2)\n",
    "\n",
    "\n",
    "# 设置背景颜色为浅灰色\n",
    "plt.gca().set_facecolor('#EEF0F2')\n",
    "\n",
    "# 开启网格，并设置虚线样式和颜色\n",
    "plt.grid(True, linestyle='--', color='gray', alpha=0.5)\n",
    "\n",
    "\n",
    "# 设置坐标轴标签\n",
    "# plt.xlabel('Number of Experts', fontsize=15)  # 修改x轴名称，加粗并修改为斜体X\n",
    "plt.ylabel('Accuracy', fontsize=15)\n",
    "\n",
    "\n",
    "# plt.ylim(0, 80)\n",
    "\n",
    "plt.xticks([r for r in range(len(data1))], [1,2,3,4,5, 6])\n",
    "\n",
    "# plt.legend()\n",
    "# plt.tight_layout()\n",
    "plt.grid(axis='y', linestyle='--', alpha=0.7)\n",
    "\n",
    "# 设置y轴显示范围为0到1，均匀划分四份来呈现网格\n",
    "plt.ylim(78, 79.3)\n",
    "fmt = lambda x: \"{:.1f}\".format(x)\n",
    "# plt.yticks(np.linspace(0, 10, 5), [fmt(i) for i in np.linspace(0, 10, 5)])\n",
    "\n",
    "# 移除上方和右侧的边框\n",
    "ax = plt.gca()\n",
    "ax.spines['top'].set_visible(False)\n",
    "ax.spines['right'].set_visible(False)\n",
    "ax.tick_params(axis='y', which='major', labelsize=12)\n",
    "ax.yaxis.set_major_formatter(custom_formatter)\n",
    "ax.tick_params(axis='x', which='major', labelsize=15)\n",
    "\n",
    "# plt.legend(fontsize=13, borderpad=0.3, labelspacing=0.1, ncol=4, columnspacing=1.33, handletextpad=0.3, loc=(0.02, 0.8))\n",
    "        #    , handlelength=1, handleheight=0.5)\n",
    "plt.savefig('layer_b.pdf', dpi=600, format= 'pdf', bbox_inches='tight')\n",
    "plt.show()\n"
   ]
  },
  {
   "cell_type": "code",
   "execution_count": null,
   "metadata": {},
   "outputs": [],
   "source": []
  }
 ],
 "metadata": {
  "kernelspec": {
   "display_name": "graph-mamba",
   "language": "python",
   "name": "python3"
  },
  "language_info": {
   "codemirror_mode": {
    "name": "ipython",
    "version": 3
   },
   "file_extension": ".py",
   "mimetype": "text/x-python",
   "name": "python",
   "nbconvert_exporter": "python",
   "pygments_lexer": "ipython3",
   "version": "3.9.19"
  },
  "orig_nbformat": 4
 },
 "nbformat": 4,
 "nbformat_minor": 2
}
